{
 "cells": [
  {
   "cell_type": "code",
   "execution_count": 10,
   "id": "89cbadea-3b48-4672-9e09-0d703ce631b1",
   "metadata": {},
   "outputs": [
    {
     "name": "stdin",
     "output_type": "stream",
     "text": [
      " 11\n"
     ]
    },
    {
     "name": "stdout",
     "output_type": "stream",
     "text": [
      "[1, 3, 5, 7, 9, 11]\n",
      "[1, 3, 5, 7, 9, 11]\n",
      "[1, 3, 5, 7, 9, 11]\n"
     ]
    }
   ],
   "source": [
    "# Упражнение 1. \n",
    "# Дано целое число N. Напишите программу, которая формирует список из нечетных чисел от 1 до N.\n",
    "n = int(input())\n",
    "result_list = []\n",
    "\n",
    "for i in range(n+1):\n",
    "    if i % 2 != 0:\n",
    "        result_list.append(i)\n",
    "print(result_list)\n",
    "\n",
    "result_list2 = [i for i in range(n+1) if i % 2 != 0]\n",
    "print (result_list2)\n",
    "\n",
    "result_list3 = list(range(1, n+1, 2))\n",
    "print(result_list3)"
   ]
  },
  {
   "cell_type": "code",
   "execution_count": 14,
   "id": "bb413ddf-7e35-4949-bd7e-8c36eafd1ba5",
   "metadata": {},
   "outputs": [
    {
     "name": "stdout",
     "output_type": "stream",
     "text": [
      "0 Иван\n",
      "2 Влад\n",
      "4 Артем\n",
      "6 Николай\n"
     ]
    }
   ],
   "source": [
    "# Упражнение 2. \n",
    "# Дан список из 8 имён: Иван, Глеб, Влад, Гоша, Артем, Евгений, Николай, Захар. Напишите программу, которая выводит элементы списка только с четными индексами.\n",
    "spisok = ['Иван', 'Глеб', 'Влад', 'Гоша', 'Артем', 'Евгений', 'Николай', 'Захар']\n",
    "\n",
    "for index, name in enumerate(spisok):\n",
    "    if index % 2 == 0:\n",
    "        print(index, name)"
   ]
  },
  {
   "cell_type": "code",
   "execution_count": null,
   "id": "0cb8f648-9a7a-4c8b-8121-be54606a35c8",
   "metadata": {},
   "outputs": [],
   "source": []
  }
 ],
 "metadata": {
  "kernelspec": {
   "display_name": "Python 3 (ipykernel)",
   "language": "python",
   "name": "python3"
  },
  "language_info": {
   "codemirror_mode": {
    "name": "ipython",
    "version": 3
   },
   "file_extension": ".py",
   "mimetype": "text/x-python",
   "name": "python",
   "nbconvert_exporter": "python",
   "pygments_lexer": "ipython3",
   "version": "3.12.7"
  }
 },
 "nbformat": 4,
 "nbformat_minor": 5
}
